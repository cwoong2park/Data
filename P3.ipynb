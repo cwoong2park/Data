{
 "metadata": {
  "language_info": {
   "codemirror_mode": {
    "name": "ipython",
    "version": 3
   },
   "file_extension": ".py",
   "mimetype": "text/x-python",
   "name": "python",
   "nbconvert_exporter": "python",
   "pygments_lexer": "ipython3",
   "version": "3.5.4-final"
  },
  "orig_nbformat": 2,
  "kernelspec": {
   "name": "python3",
   "display_name": "Python 3.5.4 64-bit",
   "metadata": {
    "interpreter": {
     "hash": "252bf9989e38a29b93f3daedda42125f1bc6d91d6a369d2ba1eff79e76424cba"
    }
   }
  }
 },
 "nbformat": 4,
 "nbformat_minor": 2,
 "cells": [
  {
   "cell_type": "code",
   "execution_count": 2,
   "metadata": {},
   "outputs": [],
   "source": [
    "import pandas as pd\n",
    "import numpy as np\n",
    "from scipy import stats as st"
   ]
  },
  {
   "cell_type": "code",
   "execution_count": 29,
   "metadata": {},
   "outputs": [
    {
     "output_type": "stream",
     "name": "stdout",
     "text": [
      "Collecting scipy\n",
      "  Using cached scipy-1.4.1-cp35-cp35m-win_amd64.whl (30.8 MB)\n",
      "Requirement already satisfied: numpy>=1.13.3 in c:\\users\\sky\\appdata\\local\\programs\\python\\python35\\lib\\site-packages (from scipy) (1.18.5)\n",
      "Installing collected packages: scipy\n",
      "Successfully installed scipy-1.4.1\n",
      "Note: you may need to restart the kernel to use updated packages.\n",
      "DEPRECATION: Python 3.5 reached the end of its life on September 13th, 2020. Please upgrade your Python as Python 3.5 is no longer maintained. pip 21.0 will drop support for Python 3.5 in January 2021. pip 21.0 will remove support for this functionality.\n",
      "WARNING: You are using pip version 20.2.3; however, version 20.3.4 is available.\n",
      "You should consider upgrading via the 'C:\\Users\\sky\\AppData\\Local\\Programs\\Python\\Python35\\python.exe -m pip install --upgrade pip' command.\n"
     ]
    }
   ],
   "source": [
    "pip install scipy"
   ]
  },
  {
   "cell_type": "code",
   "execution_count": 9,
   "metadata": {},
   "outputs": [
    {
     "output_type": "stream",
     "name": "stdout",
     "text": [
      "                  TRIP_ID CALL_TYPE  ORIGIN_CALL  ORIGIN_STAND   TAXI_ID  \\\n",
      "0     1372636858620000589         C          NaN           NaN  20000589   \n",
      "1     1372637303620000596         B          NaN           7.0  20000596   \n",
      "2     1372636951620000320         C          NaN           NaN  20000320   \n",
      "3     1372636854620000520         C          NaN           NaN  20000520   \n",
      "4     1372637091620000337         C          NaN           NaN  20000337   \n",
      "...                   ...       ...          ...           ...       ...   \n",
      "7727  1372780131620000230         B          NaN          33.0  20000230   \n",
      "7728  1372777469620000617         B          NaN          40.0  20000617   \n",
      "7729  1372779847620000174         B          NaN          58.0  20000174   \n",
      "7730  1372775457620000602         C          NaN           NaN  20000602   \n",
      "7731  1372779480620000515         B          NaN          30.0  20000515   \n",
      "\n",
      "       TIMESTAMP DAY_TYPE  MISSING_DATA  \\\n",
      "0     1372636858        A         False   \n",
      "1     1372637303        A         False   \n",
      "2     1372636951        A         False   \n",
      "3     1372636854        A         False   \n",
      "4     1372637091        A         False   \n",
      "...          ...      ...           ...   \n",
      "7727  1372780131        A         False   \n",
      "7728  1372777469        A         False   \n",
      "7729  1372779847        A         False   \n",
      "7730  1372775457        A         False   \n",
      "7731  1372779480        A         False   \n",
      "\n",
      "                                               POLYLINE  \n",
      "0     [[-8.618643, 41.141412], [-8.618499, 41.141376...  \n",
      "1     [[-8.639847, 41.159825999999995], [-8.64035099...  \n",
      "2     [[-8.612964, 41.140359000000004], [-8.613378, ...  \n",
      "3     [[-8.574678, 41.151951], [-8.574705, 41.151942...  \n",
      "4     [[-8.645994, 41.18049], [-8.645949, 41.180517]...  \n",
      "...                                                 ...  \n",
      "7727  [[-8.599788, 41.18262300000001], [-8.600166, 4...  \n",
      "7728  [[-8.673984, 41.153769000000004], [-8.673975, ...  \n",
      "7729  [[-8.604819, 41.161131000000005], [-8.605026, ...  \n",
      "7730  [[-8.601966000000001, 41.179590000000005], [-8...  \n",
      "7731  [[-8.627085, 41.15192400000001], [-8.626491, 4...  \n",
      "\n",
      "[7732 rows x 9 columns]\n",
      "Skipping line 7734: unexpected end of data\n"
     ]
    }
   ],
   "source": [
    "path = './Rawdata/PortoTaxiDataTraining.csv'\n",
    "df = pd.read_csv(path, engine = 'python', encoding = 'utf-8', error_bad_lines = False)\n",
    "print(df)"
   ]
  },
  {
   "cell_type": "code",
   "execution_count": 10,
   "metadata": {},
   "outputs": [
    {
     "output_type": "stream",
     "name": "stdout",
     "text": [
      "1853 3981 1898\n"
     ]
    }
   ],
   "source": [
    "a_df = pd.DataFrame(df[df['CALL_TYPE'] == 'A'])\n",
    "b_df = pd.DataFrame(df[df['CALL_TYPE'] == 'B'])\n",
    "c_df = pd.DataFrame(df[df['CALL_TYPE'] == 'C'])\n",
    "print(len(a_df), len(b_df), len(c_df))"
   ]
  },
  {
   "cell_type": "code",
   "execution_count": 11,
   "metadata": {},
   "outputs": [
    {
     "output_type": "stream",
     "name": "stdout",
     "text": [
      "7732\n"
     ]
    }
   ],
   "source": [
    "print(len(a_df)+len(b_df)+len(c_df))\n",
    "n = len(df)\n",
    "a = len(a_df)\n",
    "b = len(b_df)\n",
    "c = len(c_df)\n",
    "p1 = a/n\n",
    "p2 = b/n\n",
    "p3 = c/n"
   ]
  },
  {
   "cell_type": "code",
   "execution_count": 12,
   "metadata": {},
   "outputs": [
    {
     "output_type": "stream",
     "name": "stdout",
     "text": [
      "0.23965338851526125\nConfidence Interval of p1 : (0.23013858634980358, 0.2491681906807189)\n\n0.5148732540093119\nConfidence Interval of p2 : (0.5037333885978493, 0.5260131194207746)\n\n0.24547335747542678\nConfidence Interval of p3 : (0.23588064031806374, 0.2550660746327898)\n\n"
     ]
    }
   ],
   "source": [
    "under_1 = p1-st.norm.ppf(0.975)*np.sqrt(p1*(1-p1)/n)\n",
    "upper_1 = p1+st.norm.ppf(0.975)*np.sqrt(p1*(1-p1)/n)\n",
    "print(p1)\n",
    "print('Confidence Interval of p1 : ({}, {})\\n'.format(under_1, upper_1))\n",
    "\n",
    "under_2 = p2-st.norm.ppf(0.975)*np.sqrt(p2*(1-p2)/n)\n",
    "upper_2 = p2+st.norm.ppf(0.975)*np.sqrt(p2*(1-p2)/n)\n",
    "print(p2)\n",
    "print('Confidence Interval of p2 : ({}, {})\\n'.format(under_2, upper_2))\n",
    "\n",
    "under_3 = p3-st.norm.ppf(0.975)*np.sqrt(p3*(1-p3)/n)\n",
    "upper_3 = p3+st.norm.ppf(0.975)*np.sqrt(p3*(1-p3)/n)\n",
    "print(p3)\n",
    "print('Confidence Interval of p3 : ({}, {})\\n'.format(under_3, upper_3))"
   ]
  },
  {
   "cell_type": "code",
   "execution_count": 7,
   "metadata": {},
   "outputs": [
    {
     "output_type": "execute_result",
     "data": {
      "text/plain": [
       "1.959963984540054"
      ]
     },
     "metadata": {},
     "execution_count": 7
    }
   ],
   "source": [
    "st.norm.ppf(0.975)"
   ]
  }
 ]
}