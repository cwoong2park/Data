{
 "metadata": {
  "language_info": {
   "codemirror_mode": {
    "name": "ipython",
    "version": 3
   },
   "file_extension": ".py",
   "mimetype": "text/x-python",
   "name": "python",
   "nbconvert_exporter": "python",
   "pygments_lexer": "ipython3",
   "version": "3.8.5"
  },
  "orig_nbformat": 2,
  "kernelspec": {
   "name": "python385jvsc74a57bd0463d91bd89ffdfe28103c84c1a6300471b7b8723fed9523e5b49e5d60abf685e",
   "display_name": "Python 3.8.5 64-bit ('base': conda)"
  }
 },
 "nbformat": 4,
 "nbformat_minor": 2,
 "cells": [
  {
   "source": [
    "# Wavelet Transformation\n",
    "\n",
    "## Description\n",
    "* Air quality in a city is being monitored. We analyze the concentration of fine particulate matter (PM2.5) in the city of Beijing. Apply a wavelet transform on the time series, and then find a pattern, such as the peak value and duration of fine-dust attacks, in every 1 year cycle. Again, discuss the result for the feature extraction.\n",
    "\n",
    "## Backgrounds\n",
    "\n",
    "### Short-Time Fourier Transformation\n",
    "$$F(\\tau, \\omega) = \\int_{-\\infty}^{+\\infty} f(t)w(t-\\tau)e^{-i\\omega t}dt$$\n",
    "\n",
    "Window Function: $w(t-\\tau)$\n",
    "+ Considering that **Fourier transformation** is inappropriate to represent signals in time, the frequency - time relationship could not be analyzed efficiently.\n",
    "    - 어느 주파수가 언제 존재하는지는 알 수가 없다\n",
    "+ High frequency needs narrow time interval, low frequency needs wide time interval. Thus, constant time interval might hinder the fine resolution analysis\n",
    "    - 높은 주파수는 좁은 영역을, 낮은 주파수는 넓은 영역을 필요로 하니, window 의 지정에도 한계가 있다\n",
    "\n",
    "\n",
    "### Wavelet Transformation\n",
    "[<img src=\"https://t1.daumcdn.net/cfile/tistory/99B4BF495C41525405\" srcset=\"https://img1.daumcdn.net/thumb/R1280x0/?scode=mtistory2&amp;fname=https%3A%2F%2Ft1.daumcdn.net%2Fcfile%2Ftistory%2F99B4BF495C41525405\" width=\"496\" height=\"204\" data-origin-width=\"496\" data-origin-height=\"204\" data-ke-mobilestyle=\"widthContent\">][https://slideplayer.com/slide/7537671/, 이 웨이블릿 변환에 관한 Alexander Kolesnikov 강의 PPT, Very Good!]\n",
    "\n",
    "$$F(\\tau, s) =\\frac{1}{\\sqrt{|s|}}\\int_{-\\infty}^{+\\infty} f(t)\\psi^*(\\frac{t-\\tau}{s})dt$$\n",
    "\n",
    "$\\psi^*(\\frac{t-\\tau}{s})$: Wavelet Function (Work basis function like cosine and sine in Fourier Transformation & window function)\n",
    "\n",
    "+ Types of wavelet functions (https://www.mathworks.com/videos/understanding-wavelets-part-1-what-are-wavelets-121279.htm)\n",
    "[<img src=\"https://t1.daumcdn.net/cfile/tistory/99A5573C5C4358AD14\" srcset=\"https://img1.daumcdn.net/thumb/R1280x0/?scode=mtistory2&amp;fname=https%3A%2F%2Ft1.daumcdn.net%2Fcfile%2Ftistory%2F99A5573C5C4358AD14\" width=\"500\" height=\"257\" style=\"width: 500px; height: 257px;\" data-origin-width=\"900\" data-origin-height=\"462\" data-ke-mobilestyle=\"widthContent\">]\n",
    "\n",
    "s: 1/f\n",
    "+ **Wavelet Transformation** presents multiresolution analysis by differentiating time interval for various frequencies.\n",
    "\n",
    "+ It reduces the original data with same length by compressing the original data to transformed data. Using the part of them which is the most representative ensures the feature extraction.\n",
    "\n",
    "#### Discrete Wavelet Transformation\n",
    "$$D[a, b] = \\frac{1}{b} \\sum_{m=0}^{p-1} f(t_m) \\psi[\\frac{t_m -a}{b}]$$\n",
    "\n",
    "a: Translation parameter $a = k2^{-j}$\n",
    "b: Dilatation parameter $b = 2^{-j}$\n",
    "\n",
    "+ Scaling & Shifting\n",
    "<img src=\"https://t1.daumcdn.net/cfile/tistory/999C26485C435E8431\" srcset=\"https://img1.daumcdn.net/thumb/R1280x0/?scode=mtistory2&amp;fname=https%3A%2F%2Ft1.daumcdn.net%2Fcfile%2Ftistory%2F999C26485C435E8431\" width=\"900\" height=\"173\" data-origin-width=\"900\" data-origin-height=\"173\" data-ke-mobilestyle=\"widthContent\">\n",
    "\n",
    "    - 작은 스케일의 웨이블릿을 시작~끝까지 이동시키며 비교하고, 유사도를 c 계수에 기록\n",
    "    - 웨이블릿의 스케일을 좀 더 확장시켜서 반복\n",
    "    - 스케일이 커질수록(Wide time interval) 신호 내 완만한 변화들 (Low Frequency)과 닮기에 큰 c 값 주고, 스케일이 작을 때에는(Narrow time interval) 급한 변화들 (High Frequency)과 닮았기에 그 때 큰 c 값을 줌.\n",
    "\n",
    "+ Make L to the square of 2 ($2^n$), insert padding 0s,\n",
    "+ Apply two functions (Smoothing & Weighted differences) to generate 2 datasets (each L/2)\n",
    "+ Generate two datasets of each length of L/2\n",
    "    - Low-frequency version for frequency analysis\n",
    "    - High-frequency version for time-series analysis\n",
    "+ Iterates untile the L becomes 2\n",
    "\n",
    "+ Approximation (Low frequency) & Detail (High Frequency) parameter\n",
    "[<img src=\"https://t1.daumcdn.net/cfile/tistory/99C83F4D5C4535D437\" srcset=\"https://img1.daumcdn.net/thumb/R1280x0/?scode=mtistory2&amp;fname=https%3A%2F%2Ft1.daumcdn.net%2Fcfile%2Ftistory%2F99C83F4D5C4535D437\" width=\"570\" height=\"371\" style=\"width: 570px; height: 371px;\" data-origin-width=\"900\" data-origin-height=\"585\" data-ke-mobilestyle=\"widthContent\">]\n",
    "    - Low pass filter: Iterates until the length becomes 2\n",
    "    - High pass filter: Generates high frequency's c value"
   ],
   "cell_type": "markdown",
   "metadata": {}
  },
  {
   "cell_type": "code",
   "execution_count": 123,
   "metadata": {},
   "outputs": [],
   "source": [
    "import pandas as pd"
   ]
  },
  {
   "cell_type": "code",
   "execution_count": null,
   "metadata": {},
   "outputs": [],
   "source": [
    "df = pd.read_csv('./Rawdata/BeijingPM2.5Data.csv')\n",
    "print(df)"
   ]
  },
  {
   "cell_type": "code",
   "execution_count": null,
   "metadata": {},
   "outputs": [],
   "source": [
    "cols = df.columns\n",
    "cols"
   ]
  },
  {
   "cell_type": "code",
   "execution_count": null,
   "metadata": {},
   "outputs": [],
   "source": [
    "df['year'].unique()"
   ]
  },
  {
   "cell_type": "code",
   "execution_count": null,
   "metadata": {},
   "outputs": [],
   "source": [
    "import pywt\n",
    "import math\n",
    "import matplotlib.pyplot as plt\n",
    "import matplotlib.dates as mdate\n",
    "import datetime as dt\n",
    "w = pywt.families()\n",
    "print(w)\n",
    "# The types of wavelet functions (Haar (Daubechies 2), Mexican Hot, Meyer, Daubechies ...)"
   ]
  },
  {
   "cell_type": "code",
   "execution_count": null,
   "metadata": {},
   "outputs": [],
   "source": [
    "df_clean = pd.concat([df['year'], df['month'],df['day'], df['pm2.5']], axis = 1, names = ['year', 'pm2.5'])\n",
    "df_2010 = df_clean[df_clean['year'] == 2010].dropna().reset_index(drop = True)\n",
    "df_2011 = df_clean[df_clean['year'] == 2011].dropna().reset_index(drop = True)\n",
    "df_2012 = df_clean[df_clean['year'] == 2012].dropna().reset_index(drop = True)\n",
    "df_2013 = df_clean[df_clean['year'] == 2013].dropna().reset_index(drop = True)\n",
    "df_2014 = df_clean[df_clean['year'] == 2014].dropna().reset_index(drop = True)\n",
    "inputs = [df_2010, df_2011, df_2012, df_2013, df_2014]\n",
    "#len(cD) == len(cA) == math.floor((len(df_2010) + w.dec_len-1)/2) "
   ]
  },
  {
   "cell_type": "code",
   "execution_count": null,
   "metadata": {
    "tags": []
   },
   "outputs": [],
   "source": [
    "\n",
    "\n",
    "#assert len(cD) == len(cA) == math.floor((len(df_2010) + w.dec_len-1)/2) #dec_len: Decomposition Length"
   ]
  },
  {
   "cell_type": "code",
   "execution_count": null,
   "metadata": {},
   "outputs": [],
   "source": [
    "w = pywt.Wavelet('db4')\n",
    "for i in inputs:\n",
    "    fig, ax = plt.subplots(figsize = (15, 5))\n",
    "    ax.plot(i['pm2.5'].reset_index(drop = True))\n",
    "    cA, cD = pywt.dwt(i['pm2.5'], wavelet = w)\n",
    "    recon = pywt.idwt(cA, cD, wavelet = w)\n",
    "    ax.plot(recon)\n",
    "    plt.show()"
   ]
  },
  {
   "cell_type": "code",
   "execution_count": null,
   "metadata": {},
   "outputs": [],
   "source": [
    "w2 = pywt.Wavelet('haar')\n",
    "for i in inputs:\n",
    "    f = plt.figure(figsize = (15, 5))\n",
    "    plt.plot(i['pm2.5'].reset_index(drop = True))\n",
    "    cA, cD = pywt.dwt(i['pm2.5'], wavelet = w2)\n",
    "    recon = pywt.idwt(cA, cD, wavelet = w2)\n",
    "    plt.plot(recon)\n",
    "    plt.show()"
   ]
  }
 ]
}